{
 "cells": [
  {
   "cell_type": "code",
   "execution_count": 2,
   "metadata": {},
   "outputs": [
    {
     "data": {
      "text/html": [
       "<div>\n",
       "<style scoped>\n",
       "    .dataframe tbody tr th:only-of-type {\n",
       "        vertical-align: middle;\n",
       "    }\n",
       "\n",
       "    .dataframe tbody tr th {\n",
       "        vertical-align: top;\n",
       "    }\n",
       "\n",
       "    .dataframe thead th {\n",
       "        text-align: right;\n",
       "    }\n",
       "</style>\n",
       "<table border=\"1\" class=\"dataframe\">\n",
       "  <thead>\n",
       "    <tr style=\"text-align: right;\">\n",
       "      <th></th>\n",
       "      <th>2014年</th>\n",
       "      <th>2015年</th>\n",
       "      <th>2016年</th>\n",
       "      <th>2017年</th>\n",
       "      <th>2018年</th>\n",
       "    </tr>\n",
       "  </thead>\n",
       "  <tbody>\n",
       "    <tr>\n",
       "      <th>普通本专科（万人）</th>\n",
       "      <td>721</td>\n",
       "      <td>738</td>\n",
       "      <td>749</td>\n",
       "      <td>761</td>\n",
       "      <td>791</td>\n",
       "    </tr>\n",
       "    <tr>\n",
       "      <th>中等职业教育（万人）</th>\n",
       "      <td>620</td>\n",
       "      <td>601</td>\n",
       "      <td>593</td>\n",
       "      <td>582</td>\n",
       "      <td>557</td>\n",
       "    </tr>\n",
       "    <tr>\n",
       "      <th>普通高中（万人）</th>\n",
       "      <td>797</td>\n",
       "      <td>797</td>\n",
       "      <td>803</td>\n",
       "      <td>800</td>\n",
       "      <td>793</td>\n",
       "    </tr>\n",
       "  </tbody>\n",
       "</table>\n",
       "</div>"
      ],
      "text/plain": [
       "            2014年  2015年  2016年  2017年  2018年\n",
       "普通本专科（万人）     721    738    749    761    791\n",
       "中等职业教育（万人）    620    601    593    582    557\n",
       "普通高中（万人）      797    797    803    800    793"
      ]
     },
     "execution_count": 2,
     "metadata": {},
     "output_type": "execute_result"
    }
   ],
   "source": [
    "import pandas as pd\n",
    "index_list = ['普通本专科（万人）','中等职业教育（万人）', '普通高中（万人）']\n",
    "columns_list = ['2014年','2015年','2016年','2017年','2018年']\n",
    "df = pd.DataFrame([[721, 738, 749, 761, 791],[620, 601, 593, 582, 557],[797, 797, 803, 800, 793]],index = index_list,columns = columns_list)\n",
    "df"
   ]
  },
  {
   "cell_type": "code",
   "execution_count": 7,
   "metadata": {},
   "outputs": [
    {
     "data": {
      "text/html": [
       "<div>\n",
       "<style scoped>\n",
       "    .dataframe tbody tr th:only-of-type {\n",
       "        vertical-align: middle;\n",
       "    }\n",
       "\n",
       "    .dataframe tbody tr th {\n",
       "        vertical-align: top;\n",
       "    }\n",
       "\n",
       "    .dataframe thead th {\n",
       "        text-align: right;\n",
       "    }\n",
       "</style>\n",
       "<table border=\"1\" class=\"dataframe\">\n",
       "  <thead>\n",
       "    <tr style=\"text-align: right;\">\n",
       "      <th></th>\n",
       "      <th>2014年</th>\n",
       "      <th>2015年</th>\n",
       "    </tr>\n",
       "  </thead>\n",
       "  <tbody>\n",
       "    <tr>\n",
       "      <th>普通本专科（万人）</th>\n",
       "      <td>721</td>\n",
       "      <td>738</td>\n",
       "    </tr>\n",
       "    <tr>\n",
       "      <th>中等职业教育（万人）</th>\n",
       "      <td>620</td>\n",
       "      <td>601</td>\n",
       "    </tr>\n",
       "    <tr>\n",
       "      <th>普通高中（万人）</th>\n",
       "      <td>797</td>\n",
       "      <td>797</td>\n",
       "    </tr>\n",
       "  </tbody>\n",
       "</table>\n",
       "</div>"
      ],
      "text/plain": [
       "            2014年  2015年\n",
       "普通本专科（万人）     721    738\n",
       "中等职业教育（万人）    620    601\n",
       "普通高中（万人）      797    797"
      ]
     },
     "execution_count": 7,
     "metadata": {},
     "output_type": "execute_result"
    }
   ],
   "source": [
    "df[['2014年','2015年']]"
   ]
  },
  {
   "cell_type": "code",
   "execution_count": 10,
   "metadata": {},
   "outputs": [
    {
     "data": {
      "text/html": [
       "<div>\n",
       "<style scoped>\n",
       "    .dataframe tbody tr th:only-of-type {\n",
       "        vertical-align: middle;\n",
       "    }\n",
       "\n",
       "    .dataframe tbody tr th {\n",
       "        vertical-align: top;\n",
       "    }\n",
       "\n",
       "    .dataframe thead th {\n",
       "        text-align: right;\n",
       "    }\n",
       "</style>\n",
       "<table border=\"1\" class=\"dataframe\">\n",
       "  <thead>\n",
       "    <tr style=\"text-align: right;\">\n",
       "      <th></th>\n",
       "      <th>2015年</th>\n",
       "      <th>2016年</th>\n",
       "      <th>2017年</th>\n",
       "    </tr>\n",
       "  </thead>\n",
       "  <tbody>\n",
       "    <tr>\n",
       "      <th>普通本专科（万人）</th>\n",
       "      <td>738</td>\n",
       "      <td>749</td>\n",
       "      <td>761</td>\n",
       "    </tr>\n",
       "    <tr>\n",
       "      <th>中等职业教育（万人）</th>\n",
       "      <td>601</td>\n",
       "      <td>593</td>\n",
       "      <td>582</td>\n",
       "    </tr>\n",
       "    <tr>\n",
       "      <th>普通高中（万人）</th>\n",
       "      <td>797</td>\n",
       "      <td>803</td>\n",
       "      <td>800</td>\n",
       "    </tr>\n",
       "  </tbody>\n",
       "</table>\n",
       "</div>"
      ],
      "text/plain": [
       "            2015年  2016年  2017年\n",
       "普通本专科（万人）     738    749    761\n",
       "中等职业教育（万人）    601    593    582\n",
       "普通高中（万人）      797    803    800"
      ]
     },
     "execution_count": 10,
     "metadata": {},
     "output_type": "execute_result"
    }
   ],
   "source": [
    "df.loc[:,'2015':'2018']"
   ]
  },
  {
   "cell_type": "code",
   "execution_count": 17,
   "metadata": {},
   "outputs": [
    {
     "data": {
      "text/html": [
       "<div>\n",
       "<style scoped>\n",
       "    .dataframe tbody tr th:only-of-type {\n",
       "        vertical-align: middle;\n",
       "    }\n",
       "\n",
       "    .dataframe tbody tr th {\n",
       "        vertical-align: top;\n",
       "    }\n",
       "\n",
       "    .dataframe thead th {\n",
       "        text-align: right;\n",
       "    }\n",
       "</style>\n",
       "<table border=\"1\" class=\"dataframe\">\n",
       "  <thead>\n",
       "    <tr style=\"text-align: right;\">\n",
       "      <th></th>\n",
       "      <th>2015年</th>\n",
       "      <th>2016年</th>\n",
       "      <th>2017年</th>\n",
       "      <th>2018年</th>\n",
       "    </tr>\n",
       "  </thead>\n",
       "  <tbody>\n",
       "    <tr>\n",
       "      <th>普通本专科（万人）</th>\n",
       "      <td>738</td>\n",
       "      <td>749</td>\n",
       "      <td>761</td>\n",
       "      <td>791</td>\n",
       "    </tr>\n",
       "    <tr>\n",
       "      <th>中等职业教育（万人）</th>\n",
       "      <td>601</td>\n",
       "      <td>593</td>\n",
       "      <td>582</td>\n",
       "      <td>557</td>\n",
       "    </tr>\n",
       "    <tr>\n",
       "      <th>普通高中（万人）</th>\n",
       "      <td>797</td>\n",
       "      <td>803</td>\n",
       "      <td>800</td>\n",
       "      <td>793</td>\n",
       "    </tr>\n",
       "  </tbody>\n",
       "</table>\n",
       "</div>"
      ],
      "text/plain": [
       "            2015年  2016年  2017年  2018年\n",
       "普通本专科（万人）     738    749    761    791\n",
       "中等职业教育（万人）    601    593    582    557\n",
       "普通高中（万人）      797    803    800    793"
      ]
     },
     "execution_count": 17,
     "metadata": {},
     "output_type": "execute_result"
    }
   ],
   "source": [
    "df[['2015年','2016年','2017年','2018年']]"
   ]
  },
  {
   "cell_type": "code",
   "execution_count": 26,
   "metadata": {},
   "outputs": [
    {
     "data": {
      "text/plain": [
       "2014年    721\n",
       "2015年    738\n",
       "2016年    749\n",
       "2017年    761\n",
       "2018年    791\n",
       "Name: 普通本专科（万人）, dtype: int64"
      ]
     },
     "execution_count": 26,
     "metadata": {},
     "output_type": "execute_result"
    }
   ],
   "source": [
    "df.iloc[0,:]"
   ]
  },
  {
   "cell_type": "markdown",
   "metadata": {},
   "source": [
    "———————————————————————————————————————————————————————————————————————"
   ]
  },
  {
   "cell_type": "markdown",
   "metadata": {},
   "source": [
    "———————————————————————————————————————————————————————————————————————"
   ]
  },
  {
   "cell_type": "code",
   "execution_count": 10,
   "metadata": {},
   "outputs": [
    {
     "data": {
      "text/html": [
       "<div>\n",
       "<style scoped>\n",
       "    .dataframe tbody tr th:only-of-type {\n",
       "        vertical-align: middle;\n",
       "    }\n",
       "\n",
       "    .dataframe tbody tr th {\n",
       "        vertical-align: top;\n",
       "    }\n",
       "\n",
       "    .dataframe thead th {\n",
       "        text-align: right;\n",
       "    }\n",
       "</style>\n",
       "<table border=\"1\" class=\"dataframe\">\n",
       "  <thead>\n",
       "    <tr style=\"text-align: right;\">\n",
       "      <th></th>\n",
       "      <th>年份</th>\n",
       "      <th>GDP(亿元)</th>\n",
       "      <th>GDP增长率（%）</th>\n",
       "      <th>人均GDP(元/人)</th>\n",
       "    </tr>\n",
       "  </thead>\n",
       "  <tbody>\n",
       "    <tr>\n",
       "      <th>34</th>\n",
       "      <td>2012</td>\n",
       "      <td>519322.0</td>\n",
       "      <td>7.8</td>\n",
       "      <td>40007</td>\n",
       "    </tr>\n",
       "  </tbody>\n",
       "</table>\n",
       "</div>"
      ],
      "text/plain": [
       "      年份   GDP(亿元)  GDP增长率（%）  人均GDP(元/人)\n",
       "34  2012  519322.0        7.8       40007"
      ]
     },
     "execution_count": 10,
     "metadata": {},
     "output_type": "execute_result"
    }
   ],
   "source": [
    "import pandas as pd\n",
    "import numpy as np\n",
    "s = pd.read_csv('1978_2020_GDP.csv',encoding='ansi')\n",
    "a = s[s['GDP(亿元)'] >= 500000 ]\n",
    "a.head(1)"
   ]
  },
  {
   "cell_type": "code",
   "execution_count": 2,
   "metadata": {
    "scrolled": true
   },
   "outputs": [
    {
     "data": {
      "image/png": "[encoded data removed]",
      "text/plain": [
       "<Figure size 432x288 with 1 Axes>"
      ]
     },
     "metadata": {
      "needs_background": "light"
     },
     "output_type": "display_data"
    }
   ],
   "source": [
    "import pandas as pd\n",
    "import numpy as np\n",
    "import matplotlib.pyplot as plt\n",
    "plt.rcParams['font.sans-serif'] = ['SimHei']\n",
    "plt.rcParams['axes.unicode_minus']=False\n",
    "s = pd.read_csv('1978_2020_GDP.csv',encoding='ansi')\n",
    "gdp_y=s.iloc[22:44,1]\n",
    "gdp_x=s.iloc[22:44,0]\n",
    "gdp_data = np.array(gdp_y)\n",
    "gdp_index = np.array(gdp_x)\n",
    "gdp = pd.Series(gdp_data,gdp_index)\n",
    "gdp.plot(kind='bar',title='2000-2020年国内生产总值',color=['r','g','b','c','m','y'])\n",
    "plt.show()"
   ]
  },
  {
   "cell_type": "code",
   "execution_count": 13,
   "metadata": {},
   "outputs": [
    {
     "data": {
      "text/plain": [
       "<BarContainer object of 21 artists>"
      ]
     },
     "execution_count": 13,
     "metadata": {},
     "output_type": "execute_result"
    },
    {
     "data": {
      "image/png": "[encoded data removed]",
      "text/plain": [
       "<Figure size 432x288 with 1 Axes>"
      ]
     },
     "metadata": {
      "needs_background": "light"
     },
     "output_type": "display_data"
    }
   ],
   "source": [
    "import pandas as pd\n",
    "import numpy as np\n",
    "import matplotlib.pyplot as plt\n",
    "plt.rcParams['font.sans-serif'] = ['SimHei']\n",
    "plt.rcParams['axes.unicode_minus']=False\n",
    "s = pd.read_csv('1978_2020_GDP.csv',encoding='ansi')\n",
    "gdp_temp1 = s.iloc[22:44,1]\n",
    "gdp_temp2 = s.iloc[22:44,3]\n",
    "gdp_temp3 = s.iloc[22:44,0]\n",
    "#GDP\n",
    "gdp_data1 = np.array(gdp_temp1)\n",
    "#人均GDP\n",
    "gdp_data2 = np.array(gdp_temp2)\n",
    "gdp_index = np.array(gdp_temp3)\n",
    "fig,ax = plt.subplots()\n",
    "ax.bar(gdp_index,gdp_data1,label=gdp_index)\n",
    "ax.bar(gdp_index,gdp_data2,bottom=gdp_data1,label=gdp_index)"
   ]
  },
  {
   "cell_type": "code",
   "execution_count": 3,
   "metadata": {},
   "outputs": [
    {
     "data": {
      "text/plain": [
       "<AxesSubplot:xlabel='年份'>"
      ]
     },
     "execution_count": 3,
     "metadata": {},
     "output_type": "execute_result"
    },
    {
     "data": {
      "image/png": "[encoded data removed]",
      "text/plain": [
       "<Figure size 432x288 with 1 Axes>"
      ]
     },
     "metadata": {
      "needs_background": "light"
     },
     "output_type": "display_data"
    }
   ],
   "source": [
    "import pandas as pd\n",
    "import numpy as np\n",
    "import matplotlib.pyplot as plt\n",
    "plt.rcParams['font.sans-serif'] = ['SimHei']\n",
    "plt.rcParams['axes.unicode_minus']=False\n",
    "s = pd.read_csv('1978_2020_GDP.csv',encoding='ansi')\n",
    "gdp_temp = s.iloc[22:44,1:4:2]\n",
    "gdp_2000 = gdp_temp.iloc[0,:]\n",
    "gdp_2001 = gdp_temp.iloc[1,:]\n",
    "gdp_2002 = gdp_temp.iloc[2,:]\n",
    "gdp_2003 = gdp_temp.iloc[3,:]\n",
    "gdp_2004 = gdp_temp.iloc[4,:]\n",
    "gdp_2005 = gdp_temp.iloc[5,:]\n",
    "gdp_2006 = gdp_temp.iloc[6,:]\n",
    "gdp_2007 = gdp_temp.iloc[7,:]\n",
    "gdp_2008 = gdp_temp.iloc[8,:]\n",
    "gdp_2009 = gdp_temp.iloc[9,:]\n",
    "gdp_2010 = gdp_temp.iloc[10,:]\n",
    "gdp_2011 = gdp_temp.iloc[11,:]\n",
    "gdp_2012 = gdp_temp.iloc[12,:]\n",
    "gdp_2013 = gdp_temp.iloc[13,:]\n",
    "gdp_2014 = gdp_temp.iloc[14,:]\n",
    "gdp_2015 = gdp_temp.iloc[15,:]\n",
    "gdp_2016 = gdp_temp.iloc[16,:]\n",
    "gdp_2017 = gdp_temp.iloc[17,:]\n",
    "gdp_2018 = gdp_temp.iloc[18,:]\n",
    "gdp_2019 = gdp_temp.iloc[19,:]\n",
    "gdp_2020 = gdp_temp.iloc[20,:]\n",
    "gdp_index = s.iloc[22:44,0]\n",
    "gdp = pd.DataFrame([gdp_2000,gdp_2001,gdp_2002,gdp_2003,gdp_2004,gdp_2005,gdp_2006,gdp_2007,gdp_2008,gdp_2009,gdp_2010,gdp_2011,gdp_2012,gdp_2013,gdp_2014,gdp_2015,gdp_2016,gdp_2017,gdp_2018,gdp_2019,gdp_2020],columns=['GDP(亿元)','人均GDP(元/人)'],index = gdp_index)\n",
    "gdp.plot.bar(stacked=True)"
   ]
  },
  {
   "cell_type": "code",
   "execution_count": 4,
   "metadata": {
    "scrolled": false
   },
   "outputs": [
    {
     "name": "stdout",
     "output_type": "stream",
     "text": [
      "a= 0.10148441648026882 b= -403.6116172175295 c= 401296.10669696453\n"
     ]
    },
    {
     "data": {
      "image/png": "[encoded data removed]",
      "text/plain": [
       "<Figure size 576x432 with 1 Axes>"
      ]
     },
     "metadata": {
      "needs_background": "light"
     },
     "output_type": "display_data"
    }
   ],
   "source": [
    "import pandas as pd\n",
    "import numpy as np\n",
    "from numpy import genfromtxt\n",
    "import matplotlib\n",
    "import matplotlib.pyplot as plt\n",
    "from scipy.optimize import leastsq\n",
    "s = pd.read_csv('1978_2020_GDP.csv',encoding = 'ansi')\n",
    "chinese = matplotlib.font_manager.FontProperties(fname = 'C:\\Windows\\Fonts\\simsun.ttc')\n",
    "Xi = s[\"年份\"]\n",
    "Yi = s[\"GDP(亿元)\"]\n",
    "def func(params, x):\n",
    "    a, b, c = params\n",
    "    return a * x * x + b * x + c # ax2+bx+c\n",
    "def error(params, x, y):\n",
    "    return func(params, x) - y\n",
    "p0 = [1,20,10]\n",
    "Para = leastsq(error,p0,args = (Xi,Yi))\n",
    "a,b,c = Para[0]\n",
    "print(\"a=\",a/10000,\"b=\",b/10000,\"c=\",c/10000)\n",
    "plt.figure(figsize = (8,6))\n",
    "plt.scatter(Xi,Yi,color = \"green\",label = \"样本数据\",linewidth = 2)\n",
    "x = np.linspace(1980,2020,100)\n",
    "y = a * x * x + b * x + c\n",
    "plt.plot(x,y,color = \"red\",label = \"拟合直线\",linewidth = 2)\n",
    "plt.legend(loc = 2,prop = chinese)\n",
    "plt.title(\"1978-2019国内生产总值(万亿元)\")\n",
    "plt.show()"
   ]
  },
  {
   "cell_type": "code",
   "execution_count": 4,
   "metadata": {
    "scrolled": false
   },
   "outputs": [
    {
     "data": {
      "text/html": [
       "<div>\n",
       "<style scoped>\n",
       "    .dataframe tbody tr th:only-of-type {\n",
       "        vertical-align: middle;\n",
       "    }\n",
       "\n",
       "    .dataframe tbody tr th {\n",
       "        vertical-align: top;\n",
       "    }\n",
       "\n",
       "    .dataframe thead th {\n",
       "        text-align: right;\n",
       "    }\n",
       "</style>\n",
       "<table border=\"1\" class=\"dataframe\">\n",
       "  <thead>\n",
       "    <tr style=\"text-align: right;\">\n",
       "      <th></th>\n",
       "      <th>Date (LST)</th>\n",
       "      <th>Year</th>\n",
       "      <th>Month</th>\n",
       "      <th>Day</th>\n",
       "      <th>Hour</th>\n",
       "      <th>Value</th>\n",
       "      <th>QC Name</th>\n",
       "    </tr>\n",
       "  </thead>\n",
       "  <tbody>\n",
       "    <tr>\n",
       "      <th>0</th>\n",
       "      <td>1/1/2016 0:00</td>\n",
       "      <td>2016</td>\n",
       "      <td>1</td>\n",
       "      <td>1</td>\n",
       "      <td>0</td>\n",
       "      <td>231</td>\n",
       "      <td>Valid</td>\n",
       "    </tr>\n",
       "    <tr>\n",
       "      <th>1</th>\n",
       "      <td>1/1/2016 1:00</td>\n",
       "      <td>2016</td>\n",
       "      <td>1</td>\n",
       "      <td>1</td>\n",
       "      <td>1</td>\n",
       "      <td>239</td>\n",
       "      <td>Valid</td>\n",
       "    </tr>\n",
       "    <tr>\n",
       "      <th>2</th>\n",
       "      <td>1/1/2016 2:00</td>\n",
       "      <td>2016</td>\n",
       "      <td>1</td>\n",
       "      <td>1</td>\n",
       "      <td>2</td>\n",
       "      <td>205</td>\n",
       "      <td>Valid</td>\n",
       "    </tr>\n",
       "    <tr>\n",
       "      <th>3</th>\n",
       "      <td>1/1/2016 3:00</td>\n",
       "      <td>2016</td>\n",
       "      <td>1</td>\n",
       "      <td>1</td>\n",
       "      <td>3</td>\n",
       "      <td>167</td>\n",
       "      <td>Valid</td>\n",
       "    </tr>\n",
       "    <tr>\n",
       "      <th>4</th>\n",
       "      <td>1/1/2016 4:00</td>\n",
       "      <td>2016</td>\n",
       "      <td>1</td>\n",
       "      <td>1</td>\n",
       "      <td>4</td>\n",
       "      <td>132</td>\n",
       "      <td>Valid</td>\n",
       "    </tr>\n",
       "    <tr>\n",
       "      <th>...</th>\n",
       "      <td>...</td>\n",
       "      <td>...</td>\n",
       "      <td>...</td>\n",
       "      <td>...</td>\n",
       "      <td>...</td>\n",
       "      <td>...</td>\n",
       "      <td>...</td>\n",
       "    </tr>\n",
       "    <tr>\n",
       "      <th>8779</th>\n",
       "      <td>12/31/2016 19:00</td>\n",
       "      <td>2016</td>\n",
       "      <td>12</td>\n",
       "      <td>31</td>\n",
       "      <td>19</td>\n",
       "      <td>409</td>\n",
       "      <td>Valid</td>\n",
       "    </tr>\n",
       "    <tr>\n",
       "      <th>8780</th>\n",
       "      <td>12/31/2016 20:00</td>\n",
       "      <td>2016</td>\n",
       "      <td>12</td>\n",
       "      <td>31</td>\n",
       "      <td>20</td>\n",
       "      <td>432</td>\n",
       "      <td>Valid</td>\n",
       "    </tr>\n",
       "    <tr>\n",
       "      <th>8781</th>\n",
       "      <td>12/31/2016 21:00</td>\n",
       "      <td>2016</td>\n",
       "      <td>12</td>\n",
       "      <td>31</td>\n",
       "      <td>21</td>\n",
       "      <td>482</td>\n",
       "      <td>Valid</td>\n",
       "    </tr>\n",
       "    <tr>\n",
       "      <th>8782</th>\n",
       "      <td>12/31/2016 22:00</td>\n",
       "      <td>2016</td>\n",
       "      <td>12</td>\n",
       "      <td>31</td>\n",
       "      <td>22</td>\n",
       "      <td>488</td>\n",
       "      <td>Valid</td>\n",
       "    </tr>\n",
       "    <tr>\n",
       "      <th>8783</th>\n",
       "      <td>12/31/2016 23:00</td>\n",
       "      <td>2016</td>\n",
       "      <td>12</td>\n",
       "      <td>31</td>\n",
       "      <td>23</td>\n",
       "      <td>507</td>\n",
       "      <td>Valid</td>\n",
       "    </tr>\n",
       "  </tbody>\n",
       "</table>\n",
       "<p>8784 rows × 7 columns</p>\n",
       "</div>"
      ],
      "text/plain": [
       "            Date (LST)  Year  Month  Day  Hour  Value QC Name\n",
       "0        1/1/2016 0:00  2016      1    1     0    231   Valid\n",
       "1        1/1/2016 1:00  2016      1    1     1    239   Valid\n",
       "2        1/1/2016 2:00  2016      1    1     2    205   Valid\n",
       "3        1/1/2016 3:00  2016      1    1     3    167   Valid\n",
       "4        1/1/2016 4:00  2016      1    1     4    132   Valid\n",
       "...                ...   ...    ...  ...   ...    ...     ...\n",
       "8779  12/31/2016 19:00  2016     12   31    19    409   Valid\n",
       "8780  12/31/2016 20:00  2016     12   31    20    432   Valid\n",
       "8781  12/31/2016 21:00  2016     12   31    21    482   Valid\n",
       "8782  12/31/2016 22:00  2016     12   31    22    488   Valid\n",
       "8783  12/31/2016 23:00  2016     12   31    23    507   Valid\n",
       "\n",
       "[8784 rows x 7 columns]"
      ]
     },
     "execution_count": 4,
     "metadata": {},
     "output_type": "execute_result"
    }
   ],
   "source": [
    "import pandas as pd\n",
    "data = pd.read_csv('Beijing_2016_HourlyPM25_created20170201.csv',skiprows = 3,encoding = \"unicode_escape\")\n",
    "data.drop([\"Unit\",\"Duration\",\"Parameter\",\"Site\"],axis = 1,inplace = True)\n",
    "data"
   ]
  },
  {
   "cell_type": "code",
   "execution_count": 5,
   "metadata": {},
   "outputs": [
    {
     "data": {
      "text/html": [
       "<div>\n",
       "<style scoped>\n",
       "    .dataframe tbody tr th:only-of-type {\n",
       "        vertical-align: middle;\n",
       "    }\n",
       "\n",
       "    .dataframe tbody tr th {\n",
       "        vertical-align: top;\n",
       "    }\n",
       "\n",
       "    .dataframe thead th {\n",
       "        text-align: right;\n",
       "    }\n",
       "</style>\n",
       "<table border=\"1\" class=\"dataframe\">\n",
       "  <thead>\n",
       "    <tr style=\"text-align: right;\">\n",
       "      <th></th>\n",
       "      <th>Date (LST)</th>\n",
       "      <th>Year</th>\n",
       "      <th>Month</th>\n",
       "      <th>Day</th>\n",
       "      <th>Hour</th>\n",
       "      <th>Value</th>\n",
       "      <th>QC Name</th>\n",
       "    </tr>\n",
       "  </thead>\n",
       "  <tbody>\n",
       "    <tr>\n",
       "      <th>0</th>\n",
       "      <td>1/1/2016 0:00</td>\n",
       "      <td>2016</td>\n",
       "      <td>1</td>\n",
       "      <td>1</td>\n",
       "      <td>0</td>\n",
       "      <td>231</td>\n",
       "      <td>Valid</td>\n",
       "    </tr>\n",
       "    <tr>\n",
       "      <th>1</th>\n",
       "      <td>1/1/2016 1:00</td>\n",
       "      <td>2016</td>\n",
       "      <td>1</td>\n",
       "      <td>1</td>\n",
       "      <td>1</td>\n",
       "      <td>239</td>\n",
       "      <td>Valid</td>\n",
       "    </tr>\n",
       "    <tr>\n",
       "      <th>2</th>\n",
       "      <td>1/1/2016 2:00</td>\n",
       "      <td>2016</td>\n",
       "      <td>1</td>\n",
       "      <td>1</td>\n",
       "      <td>2</td>\n",
       "      <td>205</td>\n",
       "      <td>Valid</td>\n",
       "    </tr>\n",
       "    <tr>\n",
       "      <th>3</th>\n",
       "      <td>1/1/2016 3:00</td>\n",
       "      <td>2016</td>\n",
       "      <td>1</td>\n",
       "      <td>1</td>\n",
       "      <td>3</td>\n",
       "      <td>167</td>\n",
       "      <td>Valid</td>\n",
       "    </tr>\n",
       "    <tr>\n",
       "      <th>4</th>\n",
       "      <td>1/1/2016 4:00</td>\n",
       "      <td>2016</td>\n",
       "      <td>1</td>\n",
       "      <td>1</td>\n",
       "      <td>4</td>\n",
       "      <td>132</td>\n",
       "      <td>Valid</td>\n",
       "    </tr>\n",
       "    <tr>\n",
       "      <th>...</th>\n",
       "      <td>...</td>\n",
       "      <td>...</td>\n",
       "      <td>...</td>\n",
       "      <td>...</td>\n",
       "      <td>...</td>\n",
       "      <td>...</td>\n",
       "      <td>...</td>\n",
       "    </tr>\n",
       "    <tr>\n",
       "      <th>8779</th>\n",
       "      <td>12/31/2016 19:00</td>\n",
       "      <td>2016</td>\n",
       "      <td>12</td>\n",
       "      <td>31</td>\n",
       "      <td>19</td>\n",
       "      <td>409</td>\n",
       "      <td>Valid</td>\n",
       "    </tr>\n",
       "    <tr>\n",
       "      <th>8780</th>\n",
       "      <td>12/31/2016 20:00</td>\n",
       "      <td>2016</td>\n",
       "      <td>12</td>\n",
       "      <td>31</td>\n",
       "      <td>20</td>\n",
       "      <td>432</td>\n",
       "      <td>Valid</td>\n",
       "    </tr>\n",
       "    <tr>\n",
       "      <th>8781</th>\n",
       "      <td>12/31/2016 21:00</td>\n",
       "      <td>2016</td>\n",
       "      <td>12</td>\n",
       "      <td>31</td>\n",
       "      <td>21</td>\n",
       "      <td>482</td>\n",
       "      <td>Valid</td>\n",
       "    </tr>\n",
       "    <tr>\n",
       "      <th>8782</th>\n",
       "      <td>12/31/2016 22:00</td>\n",
       "      <td>2016</td>\n",
       "      <td>12</td>\n",
       "      <td>31</td>\n",
       "      <td>22</td>\n",
       "      <td>488</td>\n",
       "      <td>Valid</td>\n",
       "    </tr>\n",
       "    <tr>\n",
       "      <th>8783</th>\n",
       "      <td>12/31/2016 23:00</td>\n",
       "      <td>2016</td>\n",
       "      <td>12</td>\n",
       "      <td>31</td>\n",
       "      <td>23</td>\n",
       "      <td>507</td>\n",
       "      <td>Valid</td>\n",
       "    </tr>\n",
       "  </tbody>\n",
       "</table>\n",
       "<p>8755 rows × 7 columns</p>\n",
       "</div>"
      ],
      "text/plain": [
       "            Date (LST)  Year  Month  Day  Hour  Value QC Name\n",
       "0        1/1/2016 0:00  2016      1    1     0    231   Valid\n",
       "1        1/1/2016 1:00  2016      1    1     1    239   Valid\n",
       "2        1/1/2016 2:00  2016      1    1     2    205   Valid\n",
       "3        1/1/2016 3:00  2016      1    1     3    167   Valid\n",
       "4        1/1/2016 4:00  2016      1    1     4    132   Valid\n",
       "...                ...   ...    ...  ...   ...    ...     ...\n",
       "8779  12/31/2016 19:00  2016     12   31    19    409   Valid\n",
       "8780  12/31/2016 20:00  2016     12   31    20    432   Valid\n",
       "8781  12/31/2016 21:00  2016     12   31    21    482   Valid\n",
       "8782  12/31/2016 22:00  2016     12   31    22    488   Valid\n",
       "8783  12/31/2016 23:00  2016     12   31    23    507   Valid\n",
       "\n",
       "[8755 rows x 7 columns]"
      ]
     },
     "execution_count": 5,
     "metadata": {},
     "output_type": "execute_result"
    }
   ],
   "source": [
    "data = data.drop(data[data[\"QC Name\"] != \"Valid\"].index)\n",
    "data"
   ]
  },
  {
   "cell_type": "code",
   "execution_count": 6,
   "metadata": {},
   "outputs": [
    {
     "data": {
      "text/html": [
       "<div>\n",
       "<style scoped>\n",
       "    .dataframe tbody tr th:only-of-type {\n",
       "        vertical-align: middle;\n",
       "    }\n",
       "\n",
       "    .dataframe tbody tr th {\n",
       "        vertical-align: top;\n",
       "    }\n",
       "\n",
       "    .dataframe thead th {\n",
       "        text-align: right;\n",
       "    }\n",
       "</style>\n",
       "<table border=\"1\" class=\"dataframe\">\n",
       "  <thead>\n",
       "    <tr style=\"text-align: right;\">\n",
       "      <th></th>\n",
       "      <th>Year</th>\n",
       "      <th>Month</th>\n",
       "      <th>Day</th>\n",
       "      <th>Hour</th>\n",
       "      <th>Value</th>\n",
       "    </tr>\n",
       "  </thead>\n",
       "  <tbody>\n",
       "    <tr>\n",
       "      <th>count</th>\n",
       "      <td>8755.0</td>\n",
       "      <td>8755.000000</td>\n",
       "      <td>8755.00000</td>\n",
       "      <td>8755.000000</td>\n",
       "      <td>8755.000000</td>\n",
       "    </tr>\n",
       "    <tr>\n",
       "      <th>mean</th>\n",
       "      <td>2016.0</td>\n",
       "      <td>6.511479</td>\n",
       "      <td>15.74586</td>\n",
       "      <td>11.500628</td>\n",
       "      <td>72.723929</td>\n",
       "    </tr>\n",
       "    <tr>\n",
       "      <th>std</th>\n",
       "      <td>0.0</td>\n",
       "      <td>3.451475</td>\n",
       "      <td>8.82042</td>\n",
       "      <td>6.928226</td>\n",
       "      <td>77.125116</td>\n",
       "    </tr>\n",
       "    <tr>\n",
       "      <th>min</th>\n",
       "      <td>2016.0</td>\n",
       "      <td>1.000000</td>\n",
       "      <td>1.00000</td>\n",
       "      <td>0.000000</td>\n",
       "      <td>-4.000000</td>\n",
       "    </tr>\n",
       "    <tr>\n",
       "      <th>25%</th>\n",
       "      <td>2016.0</td>\n",
       "      <td>4.000000</td>\n",
       "      <td>8.00000</td>\n",
       "      <td>5.000000</td>\n",
       "      <td>18.000000</td>\n",
       "    </tr>\n",
       "    <tr>\n",
       "      <th>50%</th>\n",
       "      <td>2016.0</td>\n",
       "      <td>7.000000</td>\n",
       "      <td>16.00000</td>\n",
       "      <td>12.000000</td>\n",
       "      <td>49.000000</td>\n",
       "    </tr>\n",
       "    <tr>\n",
       "      <th>75%</th>\n",
       "      <td>2016.0</td>\n",
       "      <td>10.000000</td>\n",
       "      <td>23.00000</td>\n",
       "      <td>18.000000</td>\n",
       "      <td>95.000000</td>\n",
       "    </tr>\n",
       "    <tr>\n",
       "      <th>max</th>\n",
       "      <td>2016.0</td>\n",
       "      <td>12.000000</td>\n",
       "      <td>31.00000</td>\n",
       "      <td>23.000000</td>\n",
       "      <td>782.000000</td>\n",
       "    </tr>\n",
       "  </tbody>\n",
       "</table>\n",
       "</div>"
      ],
      "text/plain": [
       "         Year        Month         Day         Hour        Value\n",
       "count  8755.0  8755.000000  8755.00000  8755.000000  8755.000000\n",
       "mean   2016.0     6.511479    15.74586    11.500628    72.723929\n",
       "std       0.0     3.451475     8.82042     6.928226    77.125116\n",
       "min    2016.0     1.000000     1.00000     0.000000    -4.000000\n",
       "25%    2016.0     4.000000     8.00000     5.000000    18.000000\n",
       "50%    2016.0     7.000000    16.00000    12.000000    49.000000\n",
       "75%    2016.0    10.000000    23.00000    18.000000    95.000000\n",
       "max    2016.0    12.000000    31.00000    23.000000   782.000000"
      ]
     },
     "execution_count": 6,
     "metadata": {},
     "output_type": "execute_result"
    }
   ],
   "source": [
    "data.describe()"
   ]
  },
  {
   "cell_type": "code",
   "execution_count": 7,
   "metadata": {},
   "outputs": [
    {
     "data": {
      "text/html": [
       "<div>\n",
       "<style scoped>\n",
       "    .dataframe tbody tr th:only-of-type {\n",
       "        vertical-align: middle;\n",
       "    }\n",
       "\n",
       "    .dataframe tbody tr th {\n",
       "        vertical-align: top;\n",
       "    }\n",
       "\n",
       "    .dataframe thead th {\n",
       "        text-align: right;\n",
       "    }\n",
       "</style>\n",
       "<table border=\"1\" class=\"dataframe\">\n",
       "  <thead>\n",
       "    <tr style=\"text-align: right;\">\n",
       "      <th></th>\n",
       "      <th>Year</th>\n",
       "      <th>Month</th>\n",
       "      <th>Day</th>\n",
       "      <th>Hour</th>\n",
       "      <th>Value</th>\n",
       "    </tr>\n",
       "  </thead>\n",
       "  <tbody>\n",
       "    <tr>\n",
       "      <th>count</th>\n",
       "      <td>8739.0</td>\n",
       "      <td>8739.000000</td>\n",
       "      <td>8739.000000</td>\n",
       "      <td>8739.000000</td>\n",
       "      <td>8739.000000</td>\n",
       "    </tr>\n",
       "    <tr>\n",
       "      <th>mean</th>\n",
       "      <td>2016.0</td>\n",
       "      <td>6.510928</td>\n",
       "      <td>15.739673</td>\n",
       "      <td>11.504978</td>\n",
       "      <td>72.859938</td>\n",
       "    </tr>\n",
       "    <tr>\n",
       "      <th>std</th>\n",
       "      <td>0.0</td>\n",
       "      <td>3.454536</td>\n",
       "      <td>8.824558</td>\n",
       "      <td>6.926523</td>\n",
       "      <td>77.130089</td>\n",
       "    </tr>\n",
       "    <tr>\n",
       "      <th>min</th>\n",
       "      <td>2016.0</td>\n",
       "      <td>1.000000</td>\n",
       "      <td>1.000000</td>\n",
       "      <td>0.000000</td>\n",
       "      <td>0.000000</td>\n",
       "    </tr>\n",
       "    <tr>\n",
       "      <th>25%</th>\n",
       "      <td>2016.0</td>\n",
       "      <td>4.000000</td>\n",
       "      <td>8.000000</td>\n",
       "      <td>5.500000</td>\n",
       "      <td>18.000000</td>\n",
       "    </tr>\n",
       "    <tr>\n",
       "      <th>50%</th>\n",
       "      <td>2016.0</td>\n",
       "      <td>7.000000</td>\n",
       "      <td>16.000000</td>\n",
       "      <td>12.000000</td>\n",
       "      <td>49.000000</td>\n",
       "    </tr>\n",
       "    <tr>\n",
       "      <th>75%</th>\n",
       "      <td>2016.0</td>\n",
       "      <td>10.000000</td>\n",
       "      <td>23.000000</td>\n",
       "      <td>18.000000</td>\n",
       "      <td>95.000000</td>\n",
       "    </tr>\n",
       "    <tr>\n",
       "      <th>max</th>\n",
       "      <td>2016.0</td>\n",
       "      <td>12.000000</td>\n",
       "      <td>31.000000</td>\n",
       "      <td>23.000000</td>\n",
       "      <td>782.000000</td>\n",
       "    </tr>\n",
       "  </tbody>\n",
       "</table>\n",
       "</div>"
      ],
      "text/plain": [
       "         Year        Month          Day         Hour        Value\n",
       "count  8739.0  8739.000000  8739.000000  8739.000000  8739.000000\n",
       "mean   2016.0     6.510928    15.739673    11.504978    72.859938\n",
       "std       0.0     3.454536     8.824558     6.926523    77.130089\n",
       "min    2016.0     1.000000     1.000000     0.000000     0.000000\n",
       "25%    2016.0     4.000000     8.000000     5.500000    18.000000\n",
       "50%    2016.0     7.000000    16.000000    12.000000    49.000000\n",
       "75%    2016.0    10.000000    23.000000    18.000000    95.000000\n",
       "max    2016.0    12.000000    31.000000    23.000000   782.000000"
      ]
     },
     "execution_count": 7,
     "metadata": {},
     "output_type": "execute_result"
    }
   ],
   "source": [
    "data = data.drop(data[data[\"Value\"] < 0].index)\n",
    "data.describe()"
   ]
  },
  {
   "cell_type": "code",
   "execution_count": 8,
   "metadata": {},
   "outputs": [
    {
     "data": {
      "text/plain": [
       "0       False\n",
       "1       False\n",
       "2       False\n",
       "3       False\n",
       "4       False\n",
       "        ...  \n",
       "8779    False\n",
       "8780    False\n",
       "8781    False\n",
       "8782    False\n",
       "8783    False\n",
       "Length: 8739, dtype: bool"
      ]
     },
     "execution_count": 8,
     "metadata": {},
     "output_type": "execute_result"
    }
   ],
   "source": [
    "data.duplicated()"
   ]
  },
  {
   "cell_type": "code",
   "execution_count": 9,
   "metadata": {},
   "outputs": [
    {
     "data": {
      "text/plain": [
       "Date (LST)  Year   Month  Day    Hour   Value  QC Name\n",
       "False       False  False  False  False  False  False      8739\n",
       "dtype: int64"
      ]
     },
     "execution_count": 9,
     "metadata": {},
     "output_type": "execute_result"
    }
   ],
   "source": [
    "data.isnull().value_counts()"
   ]
  },
  {
   "cell_type": "code",
   "execution_count": 10,
   "metadata": {},
   "outputs": [],
   "source": [
    "data.to_csv('Beijing2016_PM25_After.csv',encoding = \"utf-8\")"
   ]
  },
  {
   "cell_type": "code",
   "execution_count": 12,
   "metadata": {},
   "outputs": [
    {
     "name": "stdout",
     "output_type": "stream",
     "text": [
      "北京2016年出现PM2.5大于500的天数为: 18 天\n"
     ]
    }
   ],
   "source": [
    "data = pd.read_csv('Beijing2016_PM25_After.csv')\n",
    "PM25_500 = data.loc[data[\"Value\"] > 500]\n",
    "print(\"北京2016年出现PM2.5大于500的天数为:\",PM25_500.shape[0],\"天\")"
   ]
  },
  {
   "cell_type": "code",
   "execution_count": 16,
   "metadata": {},
   "outputs": [
    {
     "data": {
      "image/png": "[encoded data removed]",
      "text/plain": [
       "<Figure size 432x288 with 1 Axes>"
      ]
     },
     "metadata": {
      "needs_background": "light"
     },
     "output_type": "display_data"
    }
   ],
   "source": [
    "import numpy as np\n",
    "import matplotlib\n",
    "import matplotlib.pyplot as plt\n",
    "plt.rcParams['font.sans-serif'] = ['SimHei']\n",
    "plt.rcParams['axes.unicode_minus']=False\n",
    "PM25_avg = data.groupby([\"Month\"])[\"Value\"].mean()\n",
    "PM25_month = np.arange(1,13)\n",
    "PM25 = pd.Series(PM25_avg,PM25_month)\n",
    "PM25.plot(kind='bar',title=\"北京2016年全年12个月PM2.5平均值\")\n",
    "plt.xticks(rotation = 360)\n",
    "plt.show()"
   ]
  },
  {
   "cell_type": "code",
   "execution_count": 18,
   "metadata": {
    "scrolled": false
   },
   "outputs": [
    {
     "data": {
      "image/png": "[encoded data removed]",
      "text/plain": [
       "<Figure size 432x288 with 1 Axes>"
      ]
     },
     "metadata": {
      "needs_background": "light"
     },
     "output_type": "display_data"
    }
   ],
   "source": [
    "import random as rd\n",
    "data = pd.read_csv('Beijing2016_PM25_After.csv')\n",
    "\n",
    "m = rd.randint(1,12)\n",
    "if m == 2:\n",
    "    d = rd.randint(1,29)\n",
    "elif m in (1,3,5,7,8,10,12):\n",
    "    d = rd.randint(1,31)\n",
    "elif m in (4,6,9,11):\n",
    "    d = rd.randint(1,30)\n",
    "\n",
    "daydata = data.loc[((data[\"Month\"] == m)&(data[\"Day\"] == d)&(data[\"Hour\"] >= 0)&(data[\"Month\"] == m)&(data[\"Day\"] == d)&(data[\"Hour\"] <= 23))]\n",
    "dayValue = daydata[\"Value\"]\n",
    "dayValue.plot()\n",
    "plt.title(\"北京2016年{month}月{day}日各时间段PM2.5数值\".format(month = m, day = d))\n",
    "time = list(daydata.loc[:,[\"Hour\"]].index)\n",
    "plt.xticks(range(time[0],time[23]),range(0,23))\n",
    "plt.show()"
   ]
  },
  {
   "cell_type": "markdown",
   "metadata": {},
   "source": [
    "———————————————————————————————————————————————————————————————————————"
   ]
  },
  {
   "cell_type": "markdown",
   "metadata": {},
   "source": [
    "———————————————————————————————————————————————————————————————————————"
   ]
  },
  {
   "cell_type": "code",
   "execution_count": null,
   "metadata": {},
   "outputs": [],
   "source": []
  }
 ],
 "metadata": {
  "kernelspec": {
   "display_name": "Python 3",
   "language": "python",
   "name": "python3"
  },
  "language_info": {
   "codemirror_mode": {
    "name": "ipython",
    "version": 3
   },
   "file_extension": ".py",
   "mimetype": "text/x-python",
   "name": "python",
   "nbconvert_exporter": "python",
   "pygments_lexer": "ipython3",
   "version": "3.8.5"
  }
 },
 "nbformat": 4,
 "nbformat_minor": 4
}
